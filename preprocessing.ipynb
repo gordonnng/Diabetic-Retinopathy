{
 "cells": [
  {
   "cell_type": "raw",
   "id": "increasing-traveler",
   "metadata": {
    "_cell_guid": "b1076dfc-b9ad-4769-8c92-a6c4dae69d19",
    "_uuid": "8f2839f25d086af736a60e9eeb907d3b93b6e0e5",
    "papermill": {
     "duration": 0.00957,
     "end_time": "2021-04-14T10:25:24.325397",
     "exception": false,
     "start_time": "2021-04-14T10:25:24.315827",
     "status": "completed"
    },
    "tags": []
   },
   "source": []
  },
  {
   "cell_type": "code",
   "execution_count": 1,
   "id": "fossil-antenna",
   "metadata": {
    "execution": {
     "iopub.execute_input": "2021-04-14T10:25:24.347044Z",
     "iopub.status.busy": "2021-04-14T10:25:24.346368Z",
     "iopub.status.idle": "2021-04-14T10:25:24.555642Z",
     "shell.execute_reply": "2021-04-14T10:25:24.554274Z"
    },
    "papermill": {
     "duration": 0.222554,
     "end_time": "2021-04-14T10:25:24.555848",
     "exception": false,
     "start_time": "2021-04-14T10:25:24.333294",
     "status": "completed"
    },
    "tags": []
   },
   "outputs": [],
   "source": [
    "from tqdm import tqdm,tqdm_notebook\n",
    "from PIL import Image\n",
    "import cv2\n",
    "import pandas as pd\n",
    "import numpy as np"
   ]
  },
  {
   "cell_type": "code",
   "execution_count": 2,
   "id": "pretty-pittsburgh",
   "metadata": {
    "execution": {
     "iopub.execute_input": "2021-04-14T10:25:24.577327Z",
     "iopub.status.busy": "2021-04-14T10:25:24.576593Z",
     "iopub.status.idle": "2021-04-14T10:25:24.610776Z",
     "shell.execute_reply": "2021-04-14T10:25:24.610074Z"
    },
    "papermill": {
     "duration": 0.046783,
     "end_time": "2021-04-14T10:25:24.610934",
     "exception": false,
     "start_time": "2021-04-14T10:25:24.564151",
     "status": "completed"
    },
    "tags": []
   },
   "outputs": [],
   "source": [
    "train_df = pd.read_csv('../input/aptos2019-blindness-detection/train.csv')\n",
    "test_df = pd.read_csv('../input/aptos2019-blindness-detection/test.csv')"
   ]
  },
  {
   "cell_type": "code",
   "execution_count": 3,
   "id": "connected-colors",
   "metadata": {
    "execution": {
     "iopub.execute_input": "2021-04-14T10:25:24.635735Z",
     "iopub.status.busy": "2021-04-14T10:25:24.634912Z",
     "iopub.status.idle": "2021-04-14T10:25:24.638200Z",
     "shell.execute_reply": "2021-04-14T10:25:24.637530Z"
    },
    "papermill": {
     "duration": 0.018725,
     "end_time": "2021-04-14T10:25:24.638347",
     "exception": false,
     "start_time": "2021-04-14T10:25:24.619622",
     "status": "completed"
    },
    "tags": []
   },
   "outputs": [],
   "source": [
    "def crop_image(img,threshold=10):\n",
    "    '''\n",
    "    return cropped image\n",
    "    inspired by: https://codereview.stackexchange.com/questions/132914/crop-black-border-of-image-using-numpy\n",
    "    \n",
    "    '''\n",
    "    img_grey=cv2.cvtColor(img, cv2.COLOR_RGB2GRAY) # convert image to greyscale\n",
    "    mask = img_grey>threshold # find (black) pixels with greyscale value under the threshold \n",
    "    cropped_idx_arr=np.ix_(mask.any(1),mask.any(0))\n",
    "    return img[cropped_idx_arr[0],cropped_idx_arr[1],:]"
   ]
  },
  {
   "cell_type": "code",
   "execution_count": 4,
   "id": "rural-transcript",
   "metadata": {
    "execution": {
     "iopub.execute_input": "2021-04-14T10:25:24.660169Z",
     "iopub.status.busy": "2021-04-14T10:25:24.659471Z",
     "iopub.status.idle": "2021-04-14T10:25:24.661545Z",
     "shell.execute_reply": "2021-04-14T10:25:24.662100Z"
    },
    "papermill": {
     "duration": 0.015585,
     "end_time": "2021-04-14T10:25:24.662275",
     "exception": false,
     "start_time": "2021-04-14T10:25:24.646690",
     "status": "completed"
    },
    "tags": []
   },
   "outputs": [],
   "source": [
    "def smooth_image(img):\n",
    "    '''\n",
    "    apply smoothing \n",
    "    '''\n",
    "    return cv2.addWeighted( img,2, cv2.GaussianBlur( img , (0,0) , 7) ,-2 ,128)"
   ]
  },
  {
   "cell_type": "code",
   "execution_count": 5,
   "id": "identical-blood",
   "metadata": {
    "execution": {
     "iopub.execute_input": "2021-04-14T10:25:24.682704Z",
     "iopub.status.busy": "2021-04-14T10:25:24.682107Z",
     "iopub.status.idle": "2021-04-14T10:25:24.686900Z",
     "shell.execute_reply": "2021-04-14T10:25:24.687419Z"
    },
    "papermill": {
     "duration": 0.016963,
     "end_time": "2021-04-14T10:25:24.687602",
     "exception": false,
     "start_time": "2021-04-14T10:25:24.670639",
     "status": "completed"
    },
    "tags": []
   },
   "outputs": [],
   "source": [
    "def resize_image(img, size):\n",
    "    '''\n",
    "    resize image to (size x size)\n",
    "    '''\n",
    "    return cv2.resize(img,(size, )*2)\n"
   ]
  },
  {
   "cell_type": "code",
   "execution_count": 6,
   "id": "tracked-debut",
   "metadata": {
    "execution": {
     "iopub.execute_input": "2021-04-14T10:25:24.711406Z",
     "iopub.status.busy": "2021-04-14T10:25:24.710236Z",
     "iopub.status.idle": "2021-04-14T10:25:24.713585Z",
     "shell.execute_reply": "2021-04-14T10:25:24.713048Z"
    },
    "papermill": {
     "duration": 0.017244,
     "end_time": "2021-04-14T10:25:24.713726",
     "exception": false,
     "start_time": "2021-04-14T10:25:24.696482",
     "status": "completed"
    },
    "tags": []
   },
   "outputs": [],
   "source": [
    "def preprocess_image(image_path,size):\n",
    "    img = cv2.imread(image_path)\n",
    "    img = crop_image(img)\n",
    "    img = resize_image(img, size)\n",
    "    return smooth_image(img)"
   ]
  },
  {
   "cell_type": "code",
   "execution_count": 7,
   "id": "connected-probe",
   "metadata": {
    "execution": {
     "iopub.execute_input": "2021-04-14T10:25:24.733953Z",
     "iopub.status.busy": "2021-04-14T10:25:24.733247Z",
     "iopub.status.idle": "2021-04-14T10:37:14.762274Z",
     "shell.execute_reply": "2021-04-14T10:37:14.762835Z"
    },
    "papermill": {
     "duration": 710.040902,
     "end_time": "2021-04-14T10:37:14.763206",
     "exception": false,
     "start_time": "2021-04-14T10:25:24.722304",
     "status": "completed"
    },
    "tags": []
   },
   "outputs": [
    {
     "name": "stderr",
     "output_type": "stream",
     "text": [
      "/opt/conda/lib/python3.7/site-packages/ipykernel_launcher.py:3: TqdmDeprecationWarning: This function will be removed in tqdm==5.0.0\n",
      "Please use `tqdm.notebook.tqdm` instead of `tqdm.tqdm_notebook`\n",
      "  This is separate from the ipykernel package so we can avoid doing imports until\n"
     ]
    },
    {
     "data": {
      "application/vnd.jupyter.widget-view+json": {
       "model_id": "c2184994d4324670ad6e717bf1889ebe",
       "version_major": 2,
       "version_minor": 0
      },
      "text/plain": [
       "  0%|          | 0/3662 [00:00<?, ?it/s]"
      ]
     },
     "metadata": {},
     "output_type": "display_data"
    }
   ],
   "source": [
    "size=200\n",
    "\n",
    "for i, image_id in enumerate(tqdm_notebook(train_df['id_code'])):\n",
    "    image=preprocess_image(f'../input/aptos2019-blindness-detection/train_images/{image_id}.png',size=size)\n",
    "    cv2.imwrite(f\"{image_id}.png\",image)"
   ]
  },
  {
   "cell_type": "code",
   "execution_count": 8,
   "id": "mediterranean-glenn",
   "metadata": {
    "execution": {
     "iopub.execute_input": "2021-04-14T10:37:14.818532Z",
     "iopub.status.busy": "2021-04-14T10:37:14.817562Z",
     "iopub.status.idle": "2021-04-14T10:39:45.215677Z",
     "shell.execute_reply": "2021-04-14T10:39:45.216171Z"
    },
    "papermill": {
     "duration": 150.442895,
     "end_time": "2021-04-14T10:39:45.216388",
     "exception": false,
     "start_time": "2021-04-14T10:37:14.773493",
     "status": "completed"
    },
    "tags": []
   },
   "outputs": [
    {
     "name": "stderr",
     "output_type": "stream",
     "text": [
      "/opt/conda/lib/python3.7/site-packages/ipykernel_launcher.py:1: TqdmDeprecationWarning: This function will be removed in tqdm==5.0.0\n",
      "Please use `tqdm.notebook.tqdm` instead of `tqdm.tqdm_notebook`\n",
      "  \"\"\"Entry point for launching an IPython kernel.\n"
     ]
    },
    {
     "data": {
      "application/vnd.jupyter.widget-view+json": {
       "model_id": "cb9b64a02594411c8beee5706d878b56",
       "version_major": 2,
       "version_minor": 0
      },
      "text/plain": [
       "  0%|          | 0/1928 [00:00<?, ?it/s]"
      ]
     },
     "metadata": {},
     "output_type": "display_data"
    }
   ],
   "source": [
    "for i, image_id in enumerate(tqdm_notebook(test_df['id_code'])):\n",
    "    image=preprocess_image(f'../input/aptos2019-blindness-detection/test_images/{image_id}.png',size=size)\n",
    "    cv2.imwrite(f\"{image_id}.png\",image)"
   ]
  },
  {
   "cell_type": "code",
   "execution_count": 9,
   "id": "vietnamese-organ",
   "metadata": {
    "execution": {
     "iopub.execute_input": "2021-04-14T10:39:45.242392Z",
     "iopub.status.busy": "2021-04-14T10:39:45.241709Z",
     "iopub.status.idle": "2021-04-14T10:39:45.244719Z",
     "shell.execute_reply": "2021-04-14T10:39:45.245184Z"
    },
    "papermill": {
     "duration": 0.018371,
     "end_time": "2021-04-14T10:39:45.245368",
     "exception": false,
     "start_time": "2021-04-14T10:39:45.226997",
     "status": "completed"
    },
    "tags": []
   },
   "outputs": [],
   "source": [
    "# !zip -m image.zip *.png"
   ]
  }
 ],
 "metadata": {
  "kernelspec": {
   "display_name": "Python 3",
   "language": "python",
   "name": "python3"
  },
  "language_info": {
   "codemirror_mode": {
    "name": "ipython",
    "version": 3
   },
   "file_extension": ".py",
   "mimetype": "text/x-python",
   "name": "python",
   "nbconvert_exporter": "python",
   "pygments_lexer": "ipython3",
   "version": "3.7.9"
  },
  "papermill": {
   "default_parameters": {},
   "duration": 869.153235,
   "end_time": "2021-04-14T10:39:46.966412",
   "environment_variables": {},
   "exception": null,
   "input_path": "__notebook__.ipynb",
   "output_path": "__notebook__.ipynb",
   "parameters": {},
   "start_time": "2021-04-14T10:25:17.813177",
   "version": "2.3.2"
  },
  "widgets": {
   "application/vnd.jupyter.widget-state+json": {
    "state": {
     "1812a3d2b9aa448caf48570488f22c05": {
      "model_module": "@jupyter-widgets/base",
      "model_module_version": "1.2.0",
      "model_name": "LayoutModel",
      "state": {
       "_model_module": "@jupyter-widgets/base",
       "_model_module_version": "1.2.0",
       "_model_name": "LayoutModel",
       "_view_count": null,
       "_view_module": "@jupyter-widgets/base",
       "_view_module_version": "1.2.0",
       "_view_name": "LayoutView",
       "align_content": null,
       "align_items": null,
       "align_self": null,
       "border": null,
       "bottom": null,
       "display": null,
       "flex": null,
       "flex_flow": null,
       "grid_area": null,
       "grid_auto_columns": null,
       "grid_auto_flow": null,
       "grid_auto_rows": null,
       "grid_column": null,
       "grid_gap": null,
       "grid_row": null,
       "grid_template_areas": null,
       "grid_template_columns": null,
       "grid_template_rows": null,
       "height": null,
       "justify_content": null,
       "justify_items": null,
       "left": null,
       "margin": null,
       "max_height": null,
       "max_width": null,
       "min_height": null,
       "min_width": null,
       "object_fit": null,
       "object_position": null,
       "order": null,
       "overflow": null,
       "overflow_x": null,
       "overflow_y": null,
       "padding": null,
       "right": null,
       "top": null,
       "visibility": null,
       "width": null
      }
     },
     "1abdb5c821ce4721b34c35de388f9d8e": {
      "model_module": "@jupyter-widgets/controls",
      "model_module_version": "1.5.0",
      "model_name": "ProgressStyleModel",
      "state": {
       "_model_module": "@jupyter-widgets/controls",
       "_model_module_version": "1.5.0",
       "_model_name": "ProgressStyleModel",
       "_view_count": null,
       "_view_module": "@jupyter-widgets/base",
       "_view_module_version": "1.2.0",
       "_view_name": "StyleView",
       "bar_color": null,
       "description_width": ""
      }
     },
     "1c23c6001eb3435f9cfdddc462767972": {
      "model_module": "@jupyter-widgets/controls",
      "model_module_version": "1.5.0",
      "model_name": "DescriptionStyleModel",
      "state": {
       "_model_module": "@jupyter-widgets/controls",
       "_model_module_version": "1.5.0",
       "_model_name": "DescriptionStyleModel",
       "_view_count": null,
       "_view_module": "@jupyter-widgets/base",
       "_view_module_version": "1.2.0",
       "_view_name": "StyleView",
       "description_width": ""
      }
     },
     "1e99b91042a8447a96566c3ee423c105": {
      "model_module": "@jupyter-widgets/base",
      "model_module_version": "1.2.0",
      "model_name": "LayoutModel",
      "state": {
       "_model_module": "@jupyter-widgets/base",
       "_model_module_version": "1.2.0",
       "_model_name": "LayoutModel",
       "_view_count": null,
       "_view_module": "@jupyter-widgets/base",
       "_view_module_version": "1.2.0",
       "_view_name": "LayoutView",
       "align_content": null,
       "align_items": null,
       "align_self": null,
       "border": null,
       "bottom": null,
       "display": null,
       "flex": null,
       "flex_flow": null,
       "grid_area": null,
       "grid_auto_columns": null,
       "grid_auto_flow": null,
       "grid_auto_rows": null,
       "grid_column": null,
       "grid_gap": null,
       "grid_row": null,
       "grid_template_areas": null,
       "grid_template_columns": null,
       "grid_template_rows": null,
       "height": null,
       "justify_content": null,
       "justify_items": null,
       "left": null,
       "margin": null,
       "max_height": null,
       "max_width": null,
       "min_height": null,
       "min_width": null,
       "object_fit": null,
       "object_position": null,
       "order": null,
       "overflow": null,
       "overflow_x": null,
       "overflow_y": null,
       "padding": null,
       "right": null,
       "top": null,
       "visibility": null,
       "width": null
      }
     },
     "2a422e381d8943f59504b75400bc2f3d": {
      "model_module": "@jupyter-widgets/controls",
      "model_module_version": "1.5.0",
      "model_name": "DescriptionStyleModel",
      "state": {
       "_model_module": "@jupyter-widgets/controls",
       "_model_module_version": "1.5.0",
       "_model_name": "DescriptionStyleModel",
       "_view_count": null,
       "_view_module": "@jupyter-widgets/base",
       "_view_module_version": "1.2.0",
       "_view_name": "StyleView",
       "description_width": ""
      }
     },
     "30d117fc9cf34ed09d9a45cace128e7a": {
      "model_module": "@jupyter-widgets/base",
      "model_module_version": "1.2.0",
      "model_name": "LayoutModel",
      "state": {
       "_model_module": "@jupyter-widgets/base",
       "_model_module_version": "1.2.0",
       "_model_name": "LayoutModel",
       "_view_count": null,
       "_view_module": "@jupyter-widgets/base",
       "_view_module_version": "1.2.0",
       "_view_name": "LayoutView",
       "align_content": null,
       "align_items": null,
       "align_self": null,
       "border": null,
       "bottom": null,
       "display": null,
       "flex": null,
       "flex_flow": null,
       "grid_area": null,
       "grid_auto_columns": null,
       "grid_auto_flow": null,
       "grid_auto_rows": null,
       "grid_column": null,
       "grid_gap": null,
       "grid_row": null,
       "grid_template_areas": null,
       "grid_template_columns": null,
       "grid_template_rows": null,
       "height": null,
       "justify_content": null,
       "justify_items": null,
       "left": null,
       "margin": null,
       "max_height": null,
       "max_width": null,
       "min_height": null,
       "min_width": null,
       "object_fit": null,
       "object_position": null,
       "order": null,
       "overflow": null,
       "overflow_x": null,
       "overflow_y": null,
       "padding": null,
       "right": null,
       "top": null,
       "visibility": null,
       "width": null
      }
     },
     "35c3926cd173487abd714943e5d2fc4e": {
      "model_module": "@jupyter-widgets/controls",
      "model_module_version": "1.5.0",
      "model_name": "HTMLModel",
      "state": {
       "_dom_classes": [],
       "_model_module": "@jupyter-widgets/controls",
       "_model_module_version": "1.5.0",
       "_model_name": "HTMLModel",
       "_view_count": null,
       "_view_module": "@jupyter-widgets/controls",
       "_view_module_version": "1.5.0",
       "_view_name": "HTMLView",
       "description": "",
       "description_tooltip": null,
       "layout": "IPY_MODEL_74fc3f168a174acf9dcfee14b1496c17",
       "placeholder": "​",
       "style": "IPY_MODEL_527d07d248d247dd92cd882d1c20113f",
       "value": "100%"
      }
     },
     "42db5baf4ff14c48a10be056dbfde1ee": {
      "model_module": "@jupyter-widgets/controls",
      "model_module_version": "1.5.0",
      "model_name": "ProgressStyleModel",
      "state": {
       "_model_module": "@jupyter-widgets/controls",
       "_model_module_version": "1.5.0",
       "_model_name": "ProgressStyleModel",
       "_view_count": null,
       "_view_module": "@jupyter-widgets/base",
       "_view_module_version": "1.2.0",
       "_view_name": "StyleView",
       "bar_color": null,
       "description_width": ""
      }
     },
     "527d07d248d247dd92cd882d1c20113f": {
      "model_module": "@jupyter-widgets/controls",
      "model_module_version": "1.5.0",
      "model_name": "DescriptionStyleModel",
      "state": {
       "_model_module": "@jupyter-widgets/controls",
       "_model_module_version": "1.5.0",
       "_model_name": "DescriptionStyleModel",
       "_view_count": null,
       "_view_module": "@jupyter-widgets/base",
       "_view_module_version": "1.2.0",
       "_view_name": "StyleView",
       "description_width": ""
      }
     },
     "63a65d6e200244a6863474166610c242": {
      "model_module": "@jupyter-widgets/controls",
      "model_module_version": "1.5.0",
      "model_name": "FloatProgressModel",
      "state": {
       "_dom_classes": [],
       "_model_module": "@jupyter-widgets/controls",
       "_model_module_version": "1.5.0",
       "_model_name": "FloatProgressModel",
       "_view_count": null,
       "_view_module": "@jupyter-widgets/controls",
       "_view_module_version": "1.5.0",
       "_view_name": "ProgressView",
       "bar_style": "success",
       "description": "",
       "description_tooltip": null,
       "layout": "IPY_MODEL_713f43381f324b19a94d91a1e50ece3c",
       "max": 1928.0,
       "min": 0.0,
       "orientation": "horizontal",
       "style": "IPY_MODEL_42db5baf4ff14c48a10be056dbfde1ee",
       "value": 1928.0
      }
     },
     "6a8c5188ede94cc8ac88607bc50959b4": {
      "model_module": "@jupyter-widgets/controls",
      "model_module_version": "1.5.0",
      "model_name": "HTMLModel",
      "state": {
       "_dom_classes": [],
       "_model_module": "@jupyter-widgets/controls",
       "_model_module_version": "1.5.0",
       "_model_name": "HTMLModel",
       "_view_count": null,
       "_view_module": "@jupyter-widgets/controls",
       "_view_module_version": "1.5.0",
       "_view_name": "HTMLView",
       "description": "",
       "description_tooltip": null,
       "layout": "IPY_MODEL_1e99b91042a8447a96566c3ee423c105",
       "placeholder": "​",
       "style": "IPY_MODEL_1c23c6001eb3435f9cfdddc462767972",
       "value": "100%"
      }
     },
     "713f43381f324b19a94d91a1e50ece3c": {
      "model_module": "@jupyter-widgets/base",
      "model_module_version": "1.2.0",
      "model_name": "LayoutModel",
      "state": {
       "_model_module": "@jupyter-widgets/base",
       "_model_module_version": "1.2.0",
       "_model_name": "LayoutModel",
       "_view_count": null,
       "_view_module": "@jupyter-widgets/base",
       "_view_module_version": "1.2.0",
       "_view_name": "LayoutView",
       "align_content": null,
       "align_items": null,
       "align_self": null,
       "border": null,
       "bottom": null,
       "display": null,
       "flex": null,
       "flex_flow": null,
       "grid_area": null,
       "grid_auto_columns": null,
       "grid_auto_flow": null,
       "grid_auto_rows": null,
       "grid_column": null,
       "grid_gap": null,
       "grid_row": null,
       "grid_template_areas": null,
       "grid_template_columns": null,
       "grid_template_rows": null,
       "height": null,
       "justify_content": null,
       "justify_items": null,
       "left": null,
       "margin": null,
       "max_height": null,
       "max_width": null,
       "min_height": null,
       "min_width": null,
       "object_fit": null,
       "object_position": null,
       "order": null,
       "overflow": null,
       "overflow_x": null,
       "overflow_y": null,
       "padding": null,
       "right": null,
       "top": null,
       "visibility": null,
       "width": null
      }
     },
     "74fc3f168a174acf9dcfee14b1496c17": {
      "model_module": "@jupyter-widgets/base",
      "model_module_version": "1.2.0",
      "model_name": "LayoutModel",
      "state": {
       "_model_module": "@jupyter-widgets/base",
       "_model_module_version": "1.2.0",
       "_model_name": "LayoutModel",
       "_view_count": null,
       "_view_module": "@jupyter-widgets/base",
       "_view_module_version": "1.2.0",
       "_view_name": "LayoutView",
       "align_content": null,
       "align_items": null,
       "align_self": null,
       "border": null,
       "bottom": null,
       "display": null,
       "flex": null,
       "flex_flow": null,
       "grid_area": null,
       "grid_auto_columns": null,
       "grid_auto_flow": null,
       "grid_auto_rows": null,
       "grid_column": null,
       "grid_gap": null,
       "grid_row": null,
       "grid_template_areas": null,
       "grid_template_columns": null,
       "grid_template_rows": null,
       "height": null,
       "justify_content": null,
       "justify_items": null,
       "left": null,
       "margin": null,
       "max_height": null,
       "max_width": null,
       "min_height": null,
       "min_width": null,
       "object_fit": null,
       "object_position": null,
       "order": null,
       "overflow": null,
       "overflow_x": null,
       "overflow_y": null,
       "padding": null,
       "right": null,
       "top": null,
       "visibility": null,
       "width": null
      }
     },
     "8bbabc84ea344cf2a7b91259550da443": {
      "model_module": "@jupyter-widgets/controls",
      "model_module_version": "1.5.0",
      "model_name": "HTMLModel",
      "state": {
       "_dom_classes": [],
       "_model_module": "@jupyter-widgets/controls",
       "_model_module_version": "1.5.0",
       "_model_name": "HTMLModel",
       "_view_count": null,
       "_view_module": "@jupyter-widgets/controls",
       "_view_module_version": "1.5.0",
       "_view_name": "HTMLView",
       "description": "",
       "description_tooltip": null,
       "layout": "IPY_MODEL_aafa28b0083f4ff6a54f10791b9fd1f6",
       "placeholder": "​",
       "style": "IPY_MODEL_2a422e381d8943f59504b75400bc2f3d",
       "value": " 3662/3662 [11:49&lt;00:00,  5.00it/s]"
      }
     },
     "924bc96b835141f3b8f2477cad58d373": {
      "model_module": "@jupyter-widgets/controls",
      "model_module_version": "1.5.0",
      "model_name": "DescriptionStyleModel",
      "state": {
       "_model_module": "@jupyter-widgets/controls",
       "_model_module_version": "1.5.0",
       "_model_name": "DescriptionStyleModel",
       "_view_count": null,
       "_view_module": "@jupyter-widgets/base",
       "_view_module_version": "1.2.0",
       "_view_name": "StyleView",
       "description_width": ""
      }
     },
     "94c4a617178646028c870a99a11efca7": {
      "model_module": "@jupyter-widgets/controls",
      "model_module_version": "1.5.0",
      "model_name": "HTMLModel",
      "state": {
       "_dom_classes": [],
       "_model_module": "@jupyter-widgets/controls",
       "_model_module_version": "1.5.0",
       "_model_name": "HTMLModel",
       "_view_count": null,
       "_view_module": "@jupyter-widgets/controls",
       "_view_module_version": "1.5.0",
       "_view_name": "HTMLView",
       "description": "",
       "description_tooltip": null,
       "layout": "IPY_MODEL_30d117fc9cf34ed09d9a45cace128e7a",
       "placeholder": "​",
       "style": "IPY_MODEL_924bc96b835141f3b8f2477cad58d373",
       "value": " 1928/1928 [02:30&lt;00:00, 12.42it/s]"
      }
     },
     "9de21b2f244c47d194d3dcd04a6b7337": {
      "model_module": "@jupyter-widgets/controls",
      "model_module_version": "1.5.0",
      "model_name": "FloatProgressModel",
      "state": {
       "_dom_classes": [],
       "_model_module": "@jupyter-widgets/controls",
       "_model_module_version": "1.5.0",
       "_model_name": "FloatProgressModel",
       "_view_count": null,
       "_view_module": "@jupyter-widgets/controls",
       "_view_module_version": "1.5.0",
       "_view_name": "ProgressView",
       "bar_style": "success",
       "description": "",
       "description_tooltip": null,
       "layout": "IPY_MODEL_1812a3d2b9aa448caf48570488f22c05",
       "max": 3662.0,
       "min": 0.0,
       "orientation": "horizontal",
       "style": "IPY_MODEL_1abdb5c821ce4721b34c35de388f9d8e",
       "value": 3662.0
      }
     },
     "aafa28b0083f4ff6a54f10791b9fd1f6": {
      "model_module": "@jupyter-widgets/base",
      "model_module_version": "1.2.0",
      "model_name": "LayoutModel",
      "state": {
       "_model_module": "@jupyter-widgets/base",
       "_model_module_version": "1.2.0",
       "_model_name": "LayoutModel",
       "_view_count": null,
       "_view_module": "@jupyter-widgets/base",
       "_view_module_version": "1.2.0",
       "_view_name": "LayoutView",
       "align_content": null,
       "align_items": null,
       "align_self": null,
       "border": null,
       "bottom": null,
       "display": null,
       "flex": null,
       "flex_flow": null,
       "grid_area": null,
       "grid_auto_columns": null,
       "grid_auto_flow": null,
       "grid_auto_rows": null,
       "grid_column": null,
       "grid_gap": null,
       "grid_row": null,
       "grid_template_areas": null,
       "grid_template_columns": null,
       "grid_template_rows": null,
       "height": null,
       "justify_content": null,
       "justify_items": null,
       "left": null,
       "margin": null,
       "max_height": null,
       "max_width": null,
       "min_height": null,
       "min_width": null,
       "object_fit": null,
       "object_position": null,
       "order": null,
       "overflow": null,
       "overflow_x": null,
       "overflow_y": null,
       "padding": null,
       "right": null,
       "top": null,
       "visibility": null,
       "width": null
      }
     },
     "b0c0799baa2945a98a04d85c841dc27d": {
      "model_module": "@jupyter-widgets/base",
      "model_module_version": "1.2.0",
      "model_name": "LayoutModel",
      "state": {
       "_model_module": "@jupyter-widgets/base",
       "_model_module_version": "1.2.0",
       "_model_name": "LayoutModel",
       "_view_count": null,
       "_view_module": "@jupyter-widgets/base",
       "_view_module_version": "1.2.0",
       "_view_name": "LayoutView",
       "align_content": null,
       "align_items": null,
       "align_self": null,
       "border": null,
       "bottom": null,
       "display": null,
       "flex": null,
       "flex_flow": null,
       "grid_area": null,
       "grid_auto_columns": null,
       "grid_auto_flow": null,
       "grid_auto_rows": null,
       "grid_column": null,
       "grid_gap": null,
       "grid_row": null,
       "grid_template_areas": null,
       "grid_template_columns": null,
       "grid_template_rows": null,
       "height": null,
       "justify_content": null,
       "justify_items": null,
       "left": null,
       "margin": null,
       "max_height": null,
       "max_width": null,
       "min_height": null,
       "min_width": null,
       "object_fit": null,
       "object_position": null,
       "order": null,
       "overflow": null,
       "overflow_x": null,
       "overflow_y": null,
       "padding": null,
       "right": null,
       "top": null,
       "visibility": null,
       "width": null
      }
     },
     "c2184994d4324670ad6e717bf1889ebe": {
      "model_module": "@jupyter-widgets/controls",
      "model_module_version": "1.5.0",
      "model_name": "HBoxModel",
      "state": {
       "_dom_classes": [],
       "_model_module": "@jupyter-widgets/controls",
       "_model_module_version": "1.5.0",
       "_model_name": "HBoxModel",
       "_view_count": null,
       "_view_module": "@jupyter-widgets/controls",
       "_view_module_version": "1.5.0",
       "_view_name": "HBoxView",
       "box_style": "",
       "children": [
        "IPY_MODEL_35c3926cd173487abd714943e5d2fc4e",
        "IPY_MODEL_9de21b2f244c47d194d3dcd04a6b7337",
        "IPY_MODEL_8bbabc84ea344cf2a7b91259550da443"
       ],
       "layout": "IPY_MODEL_b0c0799baa2945a98a04d85c841dc27d"
      }
     },
     "cb9b64a02594411c8beee5706d878b56": {
      "model_module": "@jupyter-widgets/controls",
      "model_module_version": "1.5.0",
      "model_name": "HBoxModel",
      "state": {
       "_dom_classes": [],
       "_model_module": "@jupyter-widgets/controls",
       "_model_module_version": "1.5.0",
       "_model_name": "HBoxModel",
       "_view_count": null,
       "_view_module": "@jupyter-widgets/controls",
       "_view_module_version": "1.5.0",
       "_view_name": "HBoxView",
       "box_style": "",
       "children": [
        "IPY_MODEL_6a8c5188ede94cc8ac88607bc50959b4",
        "IPY_MODEL_63a65d6e200244a6863474166610c242",
        "IPY_MODEL_94c4a617178646028c870a99a11efca7"
       ],
       "layout": "IPY_MODEL_f010e10889844687831d902d50df5cb1"
      }
     },
     "f010e10889844687831d902d50df5cb1": {
      "model_module": "@jupyter-widgets/base",
      "model_module_version": "1.2.0",
      "model_name": "LayoutModel",
      "state": {
       "_model_module": "@jupyter-widgets/base",
       "_model_module_version": "1.2.0",
       "_model_name": "LayoutModel",
       "_view_count": null,
       "_view_module": "@jupyter-widgets/base",
       "_view_module_version": "1.2.0",
       "_view_name": "LayoutView",
       "align_content": null,
       "align_items": null,
       "align_self": null,
       "border": null,
       "bottom": null,
       "display": null,
       "flex": null,
       "flex_flow": null,
       "grid_area": null,
       "grid_auto_columns": null,
       "grid_auto_flow": null,
       "grid_auto_rows": null,
       "grid_column": null,
       "grid_gap": null,
       "grid_row": null,
       "grid_template_areas": null,
       "grid_template_columns": null,
       "grid_template_rows": null,
       "height": null,
       "justify_content": null,
       "justify_items": null,
       "left": null,
       "margin": null,
       "max_height": null,
       "max_width": null,
       "min_height": null,
       "min_width": null,
       "object_fit": null,
       "object_position": null,
       "order": null,
       "overflow": null,
       "overflow_x": null,
       "overflow_y": null,
       "padding": null,
       "right": null,
       "top": null,
       "visibility": null,
       "width": null
      }
     }
    },
    "version_major": 2,
    "version_minor": 0
   }
  }
 },
 "nbformat": 4,
 "nbformat_minor": 5
}
